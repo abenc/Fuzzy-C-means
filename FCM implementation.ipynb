{
 "cells": [
  {
   "cell_type": "markdown",
   "metadata": {},
   "source": [
    "# Fuzzy C means Algorithm implementation"
   ]
  },
  {
   "cell_type": "code",
   "execution_count": 1,
   "metadata": {
    "collapsed": true
   },
   "outputs": [],
   "source": [
    "import numpy as np\n",
    "import random as random\n",
    "import copy as copy\n",
    "import pandas as pd\n",
    "import matplotlib.pyplot as plt\n",
    "import seaborn as sns\n",
    "import dateutil.parser\n",
    "import datetime\n",
    "import time\n",
    "sns.set_style('whitegrid')\n",
    "%matplotlib inline"
   ]
  },
  {
   "cell_type": "code",
   "execution_count": 47,
   "metadata": {
    "collapsed": true
   },
   "outputs": [],
   "source": [
    "global Epsilon\n",
    "Epsilon = 0.0001"
   ]
  },
  {
   "cell_type": "code",
   "execution_count": 48,
   "metadata": {
    "collapsed": false,
    "scrolled": true
   },
   "outputs": [],
   "source": [
    "\"\"\" \n",
    "cette fonction retourne un vecteur de valeurs aléatoires telles que la somme du vecteur = 1\n",
    "\n",
    "\"\"\"\n",
    "def randomise_line(nb_cluster):\n",
    "    interval_min = 0\n",
    "    interval_max = 1\n",
    "    proba_stack  = 0 \n",
    "    row          = []\n",
    "    for i in range(0,nb_cluster-1):\n",
    "        proba    = random.uniform(interval_min,interval_max)\n",
    "        row.append(proba)\n",
    "        proba_stack += proba\n",
    "        interval_max -= proba\n",
    "    row.append(1-proba_stack)\n",
    "    \n",
    "    return row\n",
    "        "
   ]
  },
  {
   "cell_type": "code",
   "execution_count": 49,
   "metadata": {
    "collapsed": false
   },
   "outputs": [],
   "source": [
    "\"\"\" \n",
    "cette fonction retourne un init de la table de degre d'appartenance selon le nb de xi & de cluster voulus\n",
    "\n",
    "\"\"\"\n",
    "def init_u(nrow,nb_cluster):\n",
    "    U = []\n",
    "    for i in range(0,nrow):\n",
    "        col = randomise_line(nb_cluster)\n",
    "        U.append(col)\n",
    "    return U   "
   ]
  },
  {
   "cell_type": "code",
   "execution_count": 57,
   "metadata": {
    "collapsed": false
   },
   "outputs": [],
   "source": [
    "def is_done(U,U_old,epsilon):\n",
    "    #print(len(U))\n",
    "    for row in range(0,len(U)):\n",
    "        for col in range(0,len(U[0])):\n",
    "             if U[row][col] - U_old[row][col] > epsilon:\n",
    "                return False\n",
    "    return True"
   ]
  },
  {
   "cell_type": "code",
   "execution_count": 50,
   "metadata": {
    "collapsed": true
   },
   "outputs": [],
   "source": [
    "\"\"\" \n",
    "pour chaque variable de notre tuple, on calcule sa distance par rapport aux variables des centroïdes choisis\n",
    "\n",
    "\"\"\"\n",
    "def compute_euclidian_dist(point,center):\n",
    "    stack = 0.0\n",
    "    if len(point) != len(center):\n",
    "        return -1\n",
    "    \n",
    "    for i in range(0,len(point)):\n",
    "        stack +=  (point[i] - center[i]) ** 2\n",
    "    return (stack ** 1/2)"
   ]
  },
  {
   "cell_type": "code",
   "execution_count": 51,
   "metadata": {
    "collapsed": true
   },
   "outputs": [],
   "source": [
    "\"\"\"\n",
    "pour chaque j cluster, on doit avoir un centroid\n",
    "pour avoir un centroïde , on prend une ligne, on itere sur toutes les colonnes \n",
    "\n",
    "\"\"\"\n",
    "def get_cluster_centers(U,data,nb_cluster,m=2):\n",
    "    global_centroids = []\n",
    "    \n",
    "    \n",
    "    for j in range(0,nb_cluster): # pour tous les clusters\n",
    "        curr_centroids = []\n",
    "        for k in range(0,len(data[0])):# pour toutes les colonnes\n",
    "            \n",
    "            numerateur   = 0.0\n",
    "            denominateur = 0.0\n",
    "            \n",
    "            for i in range(0,len(data)): # pour toutes les lignes\n",
    "                \n",
    "                numerateur += (U[i][j]**m)*data[i][k]\n",
    "                denominateur += (U[i][j]**m)\n",
    "            \n",
    "            curr_centroids.append(numerateur/denominateur)\n",
    "            \n",
    "        global_centroids.append(curr_centroids)\n",
    "    \n",
    "    return global_centroids\n",
    "                \n",
    "            "
   ]
  },
  {
   "cell_type": "code",
   "execution_count": 52,
   "metadata": {
    "collapsed": true
   },
   "outputs": [],
   "source": [
    "'''\n",
    "calcul une distance entre un centroïde et un point. en considerant toutes les variables \n",
    "\n",
    "'''\n",
    "def get_dist_matrix(data,C):\n",
    "    distance_matrix = []\n",
    "    for i in range(0,len(data)):\n",
    "        curr = []\n",
    "        for j in range(0,len(C)):\n",
    "            euc_dist = compute_euclidian_dist(data[i],C[j])\n",
    "            curr.append(euc_dist)\n",
    "            \n",
    "        distance_matrix.append(curr)\n",
    "    return distance_matrix"
   ]
  },
  {
   "cell_type": "code",
   "execution_count": 53,
   "metadata": {
    "collapsed": false
   },
   "outputs": [],
   "source": [
    "'''\n",
    "permet de mettre à jour la table d'appartenance\n",
    "\n",
    "'''\n",
    "def update_U(U,distance_matrix,data,m):\n",
    "    nb_cluster = len(U[0])\n",
    "    nb_rows = len(data)\n",
    "    \n",
    "    for j in range(0, nb_cluster):\n",
    "        \n",
    "        for i in range(0, nb_rows):\n",
    "            dummy = 0.0\n",
    "            for k in range(0,nb_cluster):\n",
    "\n",
    "                dummy += ((distance_matrix[i][j]/ distance_matrix[i][k])**(2/(m-1)))\n",
    "            \n",
    "            U[i][j] = 1 / dummy\n",
    "    return U"
   ]
  },
  {
   "cell_type": "code",
   "execution_count": 54,
   "metadata": {
    "collapsed": false
   },
   "outputs": [],
   "source": [
    "'''\n",
    "Permet de lancer l'algorithme avec l'enchainement des fonctions nécessaires pour finalement \n",
    "retourner la table d'appartenance finale\n",
    "\n",
    "'''\n",
    "def fuzzy(U,data,nb_cluster,m):\n",
    "    \n",
    "    U     = init_u(len(data),nb_cluster)\n",
    "    maxit = 0\n",
    "    \n",
    "    while True :\n",
    "        maxit +=1\n",
    "        U_old = copy.deepcopy(U)\n",
    "        C = get_cluster_centers(U,data,nb_cluster,m)\n",
    "        dist_matrix = get_dist_matrix(data,C)\n",
    "        update_U(U,dist_matrix,mydata,m)\n",
    "        print(maxit)\n",
    "        if is_done(U,U_old,0.003):\n",
    "            return U\n",
    "        elif maxit == 10000:\n",
    "            print(\"TOO MUCH ITERATIONS\")\n",
    "            return U"
   ]
  },
  {
   "cell_type": "code",
   "execution_count": 55,
   "metadata": {
    "collapsed": true
   },
   "outputs": [],
   "source": [
    "'''\n",
    "Permet de transformer U en table d'appartenance binaire 1 ou 0\n",
    "'''\n",
    "def normalize_U (U):\n",
    "    for row in range(len(U_new)):\n",
    "        treshhold = max(U_new[row])\n",
    "        for col in range(len(U_new[0])):\n",
    "            if U_new[row][col] == treshhold:\n",
    "                U_new[row][col] = 1\n",
    "            else:\n",
    "                U_new[row][col] = 0\n",
    "    return U "
   ]
  },
  {
   "cell_type": "code",
   "execution_count": 218,
   "metadata": {
    "collapsed": false
   },
   "outputs": [
    {
     "data": {
      "text/plain": [
       "'\\nthis is the main \\n'"
      ]
     },
     "execution_count": 218,
     "metadata": {},
     "output_type": "execute_result"
    }
   ],
   "source": [
    "\"\"\"\n",
    "this is the main \n",
    "\"\"\""
   ]
  },
  {
   "cell_type": "code",
   "execution_count": 174,
   "metadata": {
    "collapsed": false
   },
   "outputs": [],
   "source": [
    "\"\"\" GENERATING DATA \"\"\"\n",
    "centers = [[4, 2],\n",
    "           [1, 7],\n",
    "           [5, 6]]\n",
    "sigmas = [[0.8, 0.3],\n",
    "          [0.3, 0.5],\n",
    "          [1.1, 0.7]]\n",
    "\n",
    "np.random.seed(42)  # Set seed for reproducibility\n",
    "xpts = np.zeros(1)\n",
    "ypts = np.zeros(1)\n",
    "labels = np.zeros(1)\n",
    "for i, ((xmu, ymu), (xsigma, ysigma)) in enumerate(zip(centers, sigmas)):\n",
    "    xpts = np.hstack((xpts, np.random.standard_normal(50) * xsigma + xmu))\n",
    "    ypts = np.hstack((ypts, np.random.standard_normal(50) * ysigma + ymu))\n",
    "    labels = np.hstack((labels, np.ones(50) * i))\n",
    "mydata = []\n",
    "for i in range(0,len(xpts)):\n",
    "    c = []\n",
    "    c.append(xpts[i])\n",
    "    c.append(ypts[i])\n",
    "    mydata.append(c)"
   ]
  },
  {
   "cell_type": "markdown",
   "metadata": {},
   "source": [
    "# 1) Normalized FUZZY "
   ]
  },
  {
   "cell_type": "code",
   "execution_count": null,
   "metadata": {
    "collapsed": false
   },
   "outputs": [],
   "source": [
    "U = []\n",
    "U_new = fuzzy(U,mydata,3,2)\n",
    "normalize_U (U_new)"
   ]
  },
  {
   "cell_type": "code",
   "execution_count": 199,
   "metadata": {
    "collapsed": false
   },
   "outputs": [],
   "source": [
    "names_x = [\"x\"+str(i+1) for i in range(len(mydata[0]))]\n",
    "df_data = pd.DataFrame(mydata,columns=names_x)"
   ]
  },
  {
   "cell_type": "code",
   "execution_count": 201,
   "metadata": {
    "collapsed": false
   },
   "outputs": [],
   "source": [
    "def get_cluster_labels(U):\n",
    "    labels = []\n",
    "    for i in range(len(U)):\n",
    "        for j in range(len(U[0])):\n",
    "            if U[i][j] == 1 :\n",
    "                labels.append(\"C\"+str(j))\n",
    "                \n",
    "    return labels"
   ]
  },
  {
   "cell_type": "code",
   "execution_count": 206,
   "metadata": {
    "collapsed": false
   },
   "outputs": [],
   "source": [
    "#f_concat = pd.concat([df_data.reset_index(drop=True)],axis=1)"
   ]
  },
  {
   "cell_type": "code",
   "execution_count": 207,
   "metadata": {
    "collapsed": true
   },
   "outputs": [],
   "source": [
    "df_data[\"Cluster\"] = get_cluster_labels(U_new)"
   ]
  },
  {
   "cell_type": "code",
   "execution_count": 215,
   "metadata": {
    "collapsed": false
   },
   "outputs": [],
   "source": [
    "df_one   = df_data[df_data.Cluster == \"C0\"]\n",
    "df_two   = df_data[df_data.Cluster == \"C1\"]\n",
    "df_three = df_data[df_data.Cluster == \"C2\"]"
   ]
  },
  {
   "cell_type": "code",
   "execution_count": 217,
   "metadata": {
    "collapsed": false
   },
   "outputs": [
    {
     "data": {
      "text/plain": [
       "<matplotlib.collections.PathCollection at 0x2191b0aff60>"
      ]
     },
     "execution_count": 217,
     "metadata": {},
     "output_type": "execute_result"
    },
    {
     "data": {
      "image/png": "[encoded data removed]",
      "text/plain": [
       "<matplotlib.figure.Figure at 0x2191b043d30>"
      ]
     },
     "metadata": {},
     "output_type": "display_data"
    }
   ],
   "source": [
    "fig, ax = plt.subplots()\n",
    "ax.scatter(df_one.x1,df_one.x2,     color='r')\n",
    "ax.scatter(df_two.x1,df_two.x2,     color='g')\n",
    "ax.scatter(df_three.x1,df_three.x2, color='b')"
   ]
  },
  {
   "cell_type": "markdown",
   "metadata": {},
   "source": [
    "# 2)  FUZZY C MEANS DATA VIZ "
   ]
  },
  {
   "cell_type": "code",
   "execution_count": 229,
   "metadata": {
    "collapsed": false
   },
   "outputs": [
    {
     "name": "stdout",
     "output_type": "stream",
     "text": [
      "1\n",
      "2\n",
      "3\n",
      "4\n",
      "5\n",
      "6\n",
      "7\n",
      "8\n",
      "9\n",
      "10\n",
      "11\n",
      "12\n",
      "13\n",
      "14\n",
      "15\n",
      "16\n",
      "17\n",
      "18\n",
      "19\n",
      "20\n"
     ]
    }
   ],
   "source": [
    "U = []\n",
    "U_new = fuzzy(U,mydata,3,6)"
   ]
  },
  {
   "cell_type": "code",
   "execution_count": 289,
   "metadata": {
    "collapsed": false
   },
   "outputs": [],
   "source": [
    "def ecarts_respectifs(U):\n",
    "    matrice_ecarts = []\n",
    "    for i in range(len(U)):\n",
    "        vecteur_ecarts = []\n",
    "        for j in range(len(U[0])):\n",
    "            \n",
    "            ecart = 0\n",
    "            for k in range(len(U[0])):\n",
    "                if j != k :\n",
    "                    ecart += (U[i][j]-U[i][k])**2\n",
    "                \n",
    "            vecteur_ecarts.append(ecart**1/2)\n",
    "            \n",
    "        matrice_ecarts.append(vecteur_ecarts)\n",
    "    return matrice_ecarts            "
   ]
  },
  {
   "cell_type": "code",
   "execution_count": 290,
   "metadata": {
    "collapsed": true
   },
   "outputs": [],
   "source": [
    "def moyenne_des_ecarts(U):\n",
    "    return list(map(lambda x : sum(x)/len(x), ecarts_respectifs(U_new)))"
   ]
  },
  {
   "cell_type": "code",
   "execution_count": 310,
   "metadata": {
    "collapsed": false
   },
   "outputs": [
    {
     "data": {
      "text/plain": [
       "0.53499515586900082"
      ]
     },
     "execution_count": 310,
     "metadata": {},
     "output_type": "execute_result"
    }
   ],
   "source": [
    "np.max(moyenne_des_ecarts(U_new))"
   ]
  },
  {
   "cell_type": "code",
   "execution_count": 326,
   "metadata": {
    "collapsed": false
   },
   "outputs": [],
   "source": [
    "def get_cluster_labels_generalized(moyenne_des_ecarts):\n",
    "    labels = []\n",
    "    for moyenne in moyenne_des_ecarts:\n",
    "        if moyenne < 0.05:\n",
    "            labels.append(\"C\")\n",
    "        else:\n",
    "            labels.append(\"X\")\n",
    "    \n",
    "    return labels"
   ]
  },
  {
   "cell_type": "code",
   "execution_count": 327,
   "metadata": {
    "collapsed": false
   },
   "outputs": [],
   "source": [
    "names_x = [\"x\"+str(i+1) for i in range(len(mydata[0]))]\n",
    "df_data = pd.DataFrame(mydata,columns=names_x)\n",
    "df_data[\"Cluster\"] = get_cluster_labels_generalized(moyenne_des_ecarts(U_new))"
   ]
  },
  {
   "cell_type": "code",
   "execution_count": 328,
   "metadata": {
    "collapsed": false
   },
   "outputs": [
    {
     "data": {
      "text/plain": [
       "X    139\n",
       "C     12\n",
       "Name: Cluster, dtype: int64"
      ]
     },
     "execution_count": 328,
     "metadata": {},
     "output_type": "execute_result"
    }
   ],
   "source": [
    "df_data.Cluster.value_counts()"
   ]
  },
  {
   "cell_type": "code",
   "execution_count": 329,
   "metadata": {
    "collapsed": false
   },
   "outputs": [
    {
     "data": {
      "text/plain": [
       "<matplotlib.collections.PathCollection at 0x2191c4c8cc0>"
      ]
     },
     "execution_count": 329,
     "metadata": {},
     "output_type": "execute_result"
    },
    {
     "data": {
      "image/png": "[encoded data removed]",
      "text/plain": [
       "<matplotlib.figure.Figure at 0x2191affb5f8>"
      ]
     },
     "metadata": {},
     "output_type": "display_data"
    }
   ],
   "source": [
    "df_one   = df_data[df_data.Cluster == \"X\"]\n",
    "df_two   = df_data[df_data.Cluster == \"C\"]\n",
    "fig, ax = plt.subplots()\n",
    "ax.scatter(df_one.x1,df_one.x2,     color='b')\n",
    "ax.scatter(df_two.x1,df_two.x2,     color='r')\n"
   ]
  },
  {
   "cell_type": "markdown",
   "metadata": {
    "collapsed": true
   },
   "source": [
    "# 3) DATASET assurance"
   ]
  },
  {
   "cell_type": "code",
   "execution_count": 3,
   "metadata": {
    "collapsed": true
   },
   "outputs": [],
   "source": [
    "''' getting the actual age, converts it from time to seconds'''\n",
    "def returnSeconds (x):\n",
    "    try :\n",
    "        time_now = datetime.datetime.now()\n",
    "        t = (time_converter(x))\n",
    "        diff = time_now  - t \n",
    "        return diff.total_seconds()\n",
    "    except :\n",
    "        return \"NaN\"\n",
    "\n",
    "''' time converter function'''\n",
    "def time_converter(x):\n",
    "    import datetime\n",
    "    try   :     return datetime.datetime.strptime(x,\"%d/%m/%Y\")\n",
    "    except :\n",
    "        return x"
   ]
  },
  {
   "cell_type": "code",
   "execution_count": 4,
   "metadata": {
    "collapsed": false
   },
   "outputs": [],
   "source": [
    "df = pd.read_csv(\"ModelPointRentes.csv\", sep=\";\",encoding=\"latin-1\")"
   ]
  },
  {
   "cell_type": "code",
   "execution_count": 5,
   "metadata": {
    "collapsed": false
   },
   "outputs": [
    {
     "name": "stdout",
     "output_type": "stream",
     "text": [
      "DateNaissanceY : 8556 soit 0.85 %\n",
      "Unnamed: 22 : 10032 soit 1.00 %\n"
     ]
    }
   ],
   "source": [
    "for col in df.columns:\n",
    "    nb_nuls = df[col].isnull().sum()\n",
    "    pct_nul = nb_nuls / float(df.shape[0])\n",
    "    if pct_nul > 0.1:\n",
    "        print (col, \":\", nb_nuls , \"soit %.2f\"%  pct_nul, \"%\")"
   ]
  },
  {
   "cell_type": "code",
   "execution_count": 6,
   "metadata": {
    "collapsed": false
   },
   "outputs": [],
   "source": [
    "df = df.drop(\"Unnamed: 22\"   ,axis=1)\n",
    "df = df.drop(\"DateNaissanceY\",axis=1)"
   ]
  },
  {
   "cell_type": "code",
   "execution_count": 7,
   "metadata": {
    "collapsed": false
   },
   "outputs": [],
   "source": [
    "df.DateNaissanceX = df.DateNaissanceX.apply(lambda x : returnSeconds(x))"
   ]
  },
  {
   "cell_type": "code",
   "execution_count": 8,
   "metadata": {
    "collapsed": false
   },
   "outputs": [],
   "source": [
    "mask = df.DateNaissanceX!='NaN'"
   ]
  },
  {
   "cell_type": "code",
   "execution_count": 9,
   "metadata": {
    "collapsed": false
   },
   "outputs": [],
   "source": [
    "final_df = df[mask]"
   ]
  },
  {
   "cell_type": "code",
   "execution_count": 10,
   "metadata": {
    "collapsed": false
   },
   "outputs": [
    {
     "name": "stderr",
     "output_type": "stream",
     "text": [
      "C:\\ProgramData\\Anaconda3\\lib\\site-packages\\pandas\\core\\generic.py:2773: SettingWithCopyWarning: \n",
      "A value is trying to be set on a copy of a slice from a DataFrame.\n",
      "Try using .loc[row_indexer,col_indexer] = value instead\n",
      "\n",
      "See the caveats in the documentation: http://pandas.pydata.org/pandas-docs/stable/indexing.html#indexing-view-versus-copy\n",
      "  self[name] = value\n"
     ]
    }
   ],
   "source": [
    "final_df.DateNaissanceX = final_df.DateNaissanceX.astype('float')"
   ]
  },
  {
   "cell_type": "code",
   "execution_count": null,
   "metadata": {
    "collapsed": false
   },
   "outputs": [],
   "source": [
    "'''transforming df to list of lists'''"
   ]
  },
  {
   "cell_type": "code",
   "execution_count": 45,
   "metadata": {
    "collapsed": false
   },
   "outputs": [],
   "source": [
    "mydata = final_df.values.tolist()"
   ]
  },
  {
   "cell_type": "code",
   "execution_count": 58,
   "metadata": {
    "collapsed": false
   },
   "outputs": [
    {
     "name": "stdout",
     "output_type": "stream",
     "text": [
      "1\n",
      "2\n",
      "3\n",
      "4\n",
      "5\n",
      "6\n",
      "7\n",
      "8\n",
      "9\n",
      "10\n",
      "11\n",
      "12\n",
      "13\n",
      "14\n",
      "15\n",
      "16\n",
      "17\n",
      "18\n",
      "19\n",
      "20\n",
      "21\n",
      "22\n",
      "23\n",
      "24\n",
      "25\n",
      "26\n",
      "27\n",
      "28\n",
      "29\n"
     ]
    }
   ],
   "source": [
    "U = []\n",
    "U_new = fuzzy(U,mydata,4,2)"
   ]
  },
  {
   "cell_type": "code",
   "execution_count": null,
   "metadata": {
    "collapsed": false
   },
   "outputs": [],
   "source": []
  },
  {
   "cell_type": "markdown",
   "metadata": {},
   "source": [
    "# Fuzzy C-Means Clustering\n",
    "\n",
    "FCM methode de clustering qui permet de classifier une variable donnée dans deux ou plusieurs clusters\n",
    "\n",
    "Developpé en 73 par Dunn et améliorer  BEZDEK en 81\n",
    "\n",
    "souvent utilisé dans la classification de patterns ( exemple google )\n",
    "\n",
    "FORMULE MATHMEATIQUE ...\n",
    "\n",
    "m >= 1\n",
    "u(ij) degrée d'appartenance de xi dans le cluster j,\n",
    "xi - cj : norme\n",
    "xi variable\n",
    "cj variable prise en compte en tant que centroïde\n",
    "\n",
    "\n",
    "le partitionnement fuzzy est réalisé à l'aide d'une optimisation itérative de la fonction objective\n",
    "qu'on a vu au debut .\n",
    "En mettant à jour la coeff d'appartenance U(ij) & le centre des cluster Cj\n",
    "en utilsant les formules suivantes :\n",
    "Uij = ..;\n",
    "Cj = ..."
   ]
  }
 ],
 "metadata": {
  "anaconda-cloud": {},
  "kernelspec": {
   "display_name": "Python 3",
   "language": "python",
   "name": "python3"
  },
  "language_info": {
   "codemirror_mode": {
    "name": "ipython",
    "version": 3
   },
   "file_extension": ".py",
   "mimetype": "text/x-python",
   "name": "python",
   "nbconvert_exporter": "python",
   "pygments_lexer": "ipython3",
   "version": "3.6.0"
  }
 },
 "nbformat": 4,
 "nbformat_minor": 1
}
